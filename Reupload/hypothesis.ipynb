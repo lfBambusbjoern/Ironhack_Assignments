{
 "cells": [
  {
   "cell_type": "code",
   "execution_count": null,
   "id": "f84e22d9-7e0f-4656-a434-617cf5ba18c1",
   "metadata": {},
   "outputs": [],
   "source": [
    "import numpy as np\n",
    "import pandas as pd\n",
    "import scipy.stats as stats\n",
    "import matplotlib.pyplot as plt\n",
    "import seaborn as sns"
   ]
  },
  {
   "cell_type": "code",
   "execution_count": null,
   "id": "b8e24664-6668-486f-8df6-ff3bfb2b9a09",
   "metadata": {},
   "outputs": [],
   "source": [
    "np.random.seed(42)\n",
    "\n",
    "r1 = stats.expon.rvs(size=500, loc = 0.15, scale = 3 )\n",
    "r2 = stats.norm.rvs(size=500,loc=2,scale = 0.45)\n",
    "pop = pd.Series(np.concatenate([r1,r2]))\n",
    "samp_size = 80 # 80 > 30 -> Normal distribution.\n",
    "pop"
   ]
  },
  {
   "cell_type": "code",
   "execution_count": null,
   "id": "5d05d82f-318d-418c-ab62-65dd1fcd67ff",
   "metadata": {},
   "outputs": [],
   "source": [
    "squirrels = pop.sample(samp_size)\n",
    "squirrels.hist()"
   ]
  },
  {
   "cell_type": "code",
   "execution_count": null,
   "id": "12fcc7ed-b24e-4e6b-9b11-89c9aed1bde5",
   "metadata": {},
   "outputs": [],
   "source": [
    "sns.set_theme()\n",
    "pop.hist()"
   ]
  },
  {
   "cell_type": "code",
   "execution_count": null,
   "id": "75c120fc-1292-4d8e-a2b3-8e170fdd427a",
   "metadata": {},
   "outputs": [],
   "source": [
    "squirrels_mean = squirrels.mean()\n",
    "print(\"Sample mean of squirrels: {:.2f}\".format(squirrels_mean))"
   ]
  },
  {
   "cell_type": "code",
   "execution_count": null,
   "id": "c554172f-869e-467c-ba31-71e70c728950",
   "metadata": {},
   "outputs": [],
   "source": [
    "# standard error\n",
    "sem = np.std(pop)/np.sqrt(samp_size)\n",
    "sem"
   ]
  },
  {
   "cell_type": "code",
   "execution_count": null,
   "id": "a8f65887-b53b-4377-a37f-e2afa0fa768b",
   "metadata": {},
   "outputs": [],
   "source": []
  },
  {
   "cell_type": "code",
   "execution_count": null,
   "id": "b64e692c-64ab-4996-8a5e-b53b3cf6789e",
   "metadata": {},
   "outputs": [],
   "source": [
    "z = (squirrels_mean-2)/sem\n",
    "print(\"The z score of our sample is: {:.2f}\".format(z))"
   ]
  },
  {
   "cell_type": "code",
   "execution_count": null,
   "id": "7e43be90-82f5-4057-9db5-2086c2d86585",
   "metadata": {},
   "outputs": [],
   "source": [
    "zc = stats.norm.ppf(0.95) # 0.95 is the confidence level.\n",
    "print(\"The critical value corresponding to a 0.95 area of a normal distribution is: {:.2f}\".format(zc))"
   ]
  },
  {
   "cell_type": "code",
   "execution_count": null,
   "id": "4b2b8890-1ece-4ca1-a87e-ed3aae55d1f9",
   "metadata": {},
   "outputs": [],
   "source": []
  },
  {
   "cell_type": "code",
   "execution_count": null,
   "id": "29c6806a-935d-4962-887e-1dddab4fafbd",
   "metadata": {},
   "outputs": [],
   "source": [
    "zc = stats.norm.ppf(0.98)\n",
    "print(\"The critical value corresponding to a 0.95 area of a normal distribution is: {:.2f}\".format(zc))"
   ]
  },
  {
   "cell_type": "code",
   "execution_count": null,
   "id": "1861b4fd-20bd-4bbc-b46d-4bf5f56e5e3b",
   "metadata": {},
   "outputs": [],
   "source": [
    "zc = stats.norm.ppf(0.999)\n",
    "print(\"The critical value corresponding to a 0.95 area of a normal distribution is: {:.2f}\".format(zc))"
   ]
  },
  {
   "cell_type": "code",
   "execution_count": null,
   "id": "7e82190d-06c4-4db7-a3b5-6cb35bbe62d2",
   "metadata": {},
   "outputs": [],
   "source": [
    "tc = stats.t.ppf(0.95,df=79)\n",
    "print(\"The critical value corresponding to a 0.95 area of a t-student distribution is: {:.2f}\".format(tc))"
   ]
  }
 ],
 "metadata": {
  "kernelspec": {
   "display_name": "Python 3",
   "language": "python",
   "name": "python3"
  },
  "language_info": {
   "codemirror_mode": {
    "name": "ipython",
    "version": 3
   },
   "file_extension": ".py",
   "mimetype": "text/x-python",
   "name": "python",
   "nbconvert_exporter": "python",
   "pygments_lexer": "ipython3",
   "version": "3.8.8"
  }
 },
 "nbformat": 4,
 "nbformat_minor": 5
}
