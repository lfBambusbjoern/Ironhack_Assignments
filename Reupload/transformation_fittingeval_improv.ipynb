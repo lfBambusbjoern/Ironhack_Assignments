{
 "cells": [
  {
   "cell_type": "code",
   "execution_count": null,
   "id": "5032689d-ba7c-4fb4-8595-c91808e490ed",
   "metadata": {},
   "outputs": [],
   "source": [
    "import matplotlib.pyplot as plt\n",
    "import seaborn as sns\n",
    "import pandas as pd\n",
    "import numpy as np\n",
    "\n",
    "from sklearn.preprocessing import StandardScaler\n",
    "from sklearn.preprocessing import OneHotEncoder\n",
    "from sklearn.preprocessing import QuantileTransformer\n",
    "from sklearn.linear_model import LinearRegression\n",
    "from sklearn.model_selection import train_test_split\n",
    "from sklearn.preprocessing import PowerTransformer\n",
    "from sklearn.metrics import r2_score\n",
    "from sklearn.metrics import mean_squared_error as mse\n",
    "from sklearn.metrics import mean_absolute_error as mae\n",
    "\n",
    "from scipy.stats import boxcox"
   ]
  },
  {
   "cell_type": "code",
   "execution_count": null,
   "id": "353eed0e-f529-443e-bd39-1e13869139a0",
   "metadata": {},
   "outputs": [],
   "source": [
    "def load_original_data():\n",
    "    return pd.read_csv(\"/Users/lf/Desktop/IRONHACK/00_DATA_ARCHIVE/Customer_Analysis2.csv\" )"
   ]
  },
  {
   "cell_type": "code",
   "execution_count": null,
   "id": "d1a2c417-067b-4b9e-a034-43121f2f2e85",
   "metadata": {},
   "outputs": [],
   "source": [
    "customers_df.vehicle_class.value_counts()"
   ]
  },
  {
   "cell_type": "code",
   "execution_count": null,
   "id": "4546afc3-77c1-4a78-a30c-08ed4198cc6f",
   "metadata": {},
   "outputs": [],
   "source": [
    "def clean_data(df):\n",
    "    df.columns=[e.lower().replace(' ', '_') for e in df.columns]\n",
    "    df=df.drop(columns=['unnamed:_0', 'vehicle_type',\"customer\",\"number_of_open_complaints\"])\n",
    "    df=df.dropna()\n",
    "    df['effective_to_date']=pd.to_datetime(df['effective_to_date'], errors='coerce')\n",
    "    df[\"month\"]=list(map(lambda date:date.strftime(format=\"%B\"),df[\"effective_to_date\"]))\n",
    "    return df\n",
    "\n",
    "def transform(df):\n",
    "    df=df[df['income']>0]\n",
    "    df[\"total_claim_amount\"]=round(df[\"total_claim_amount\"],0)\n",
    "    df[\"customer_lifetime_value\"]=round(df[\"customer_lifetime_value\"],0)\n",
    "    df.vehicle_class[customers_df.vehicle_class.isin([\"Luxury Car\",\"Luxury SUV\"])] = \"Luxury Car\"\n",
    "    df.vehicle_class[customers_df.vehicle_class.isin([\"Four-Door Car\",\"SUV\"])] = \"Four-Door Car\"\n",
    "    df.policy[df.policy.isin([\"Personal L3\",\"Personal L2\",\"Personal L1\"]) ] = \"Personal\"\n",
    "    df.policy[df.policy.isin([\"Corporate L3\",\"Corporate L2\",\"Corporate L1\"]) ] = \"Corporate\"\n",
    "    df.policy[df.policy.isin([\"Special L3\",\"Special L2\",\"Special L1\"]) ] = \"Special\"\n",
    "    df=df.drop(columns=[\"month\",\"education\"])\n",
    "    df.number_of_policies[df.number_of_policies>2]=3\n",
    "    return df"
   ]
  },
  {
   "cell_type": "code",
   "execution_count": null,
   "id": "8b917077-3c98-4432-bb9f-9905b73ab849",
   "metadata": {},
   "outputs": [],
   "source": [
    "customers_df=load_original_data()\n",
    "customers_df=clean_data(customers_df)\n",
    "customers_df=transform(customers_df)"
   ]
  },
  {
   "cell_type": "code",
   "execution_count": null,
   "id": "386b505f-4323-42ce-91f8-ea4bd0928f95",
   "metadata": {},
   "outputs": [],
   "source": [
    "customers_df.shape"
   ]
  },
  {
   "cell_type": "code",
   "execution_count": null,
   "id": "0d475501-44d3-429e-8abf-b63d277f15c4",
   "metadata": {},
   "outputs": [],
   "source": [
    "customers_df.columns"
   ]
  },
  {
   "cell_type": "code",
   "execution_count": null,
   "id": "7ac5faaf-ff37-4239-a654-5da5cf88aa57",
   "metadata": {},
   "outputs": [],
   "source": [
    "# plot\n",
    "for i in customers_df.select_dtypes(object):\n",
    "    plt.figure(figsize=(10,5))\n",
    "    plt.bar(customers_df[c].unique(), customers_df[i].value_counts())\n",
    "    plt.title(i)\n",
    "    plt.show();"
   ]
  },
  {
   "cell_type": "code",
   "execution_count": null,
   "id": "98fe5b0c-d8c3-453b-8c7c-549b44f2a1dd",
   "metadata": {},
   "outputs": [],
   "source": [
    "# total number of responses\n",
    "customers_df.customer_lifetime_value.hist()"
   ]
  },
  {
   "cell_type": "code",
   "execution_count": null,
   "id": "6977bf92-89be-4ba5-abb7-2baa2688d5e4",
   "metadata": {},
   "outputs": [],
   "source": [
    "sns.countplot('response', data=customers_df)\n",
    "plt.ylabel('Total number of Response')\n",
    "plt.show()"
   ]
  },
  {
   "cell_type": "code",
   "execution_count": null,
   "id": "1cdf8233-a6c8-4615-9c89-3cb335da5c74",
   "metadata": {},
   "outputs": [],
   "source": [
    "# response rates\n",
    "plt.figure(figsize=(8,4))\n",
    "sns.countplot('response', hue='sales_channel', data=customers_df)\n",
    "plt.ylabel('Response by Sales Channel')\n",
    "plt.show()"
   ]
  },
  {
   "cell_type": "code",
   "execution_count": null,
   "id": "26da8166-8384-4edb-af97-0fb93f10d1d2",
   "metadata": {},
   "outputs": [],
   "source": [
    "plt.figure(figsize=(12,6))\n",
    "sns.boxplot(y='total_claim_amount' , x='response', data=customers_df)\n",
    "plt.ylabel('Response by Total Claim Amount')\n",
    "plt.show()"
   ]
  },
  {
   "cell_type": "code",
   "execution_count": null,
   "id": "8f5370d8-2689-4fb1-97fa-503e75afdaac",
   "metadata": {},
   "outputs": [],
   "source": [
    "plt.figure(figsize=(12,6))\n",
    "sns.boxplot(y='income' , x='response', data=customers_df)\n",
    "plt.ylabel('Response by Income')\n",
    "plt.show()"
   ]
  },
  {
   "cell_type": "code",
   "execution_count": null,
   "id": "34262317-aa17-4463-a390-6272f0813944",
   "metadata": {},
   "outputs": [],
   "source": [
    "# data transformation\n",
    "sns.pairplot(customers_df)\n",
    "plt.show()"
   ]
  },
  {
   "cell_type": "code",
   "execution_count": null,
   "id": "70c0c883-9042-4def-8498-73b4b64bd1b1",
   "metadata": {},
   "outputs": [],
   "source": [
    "sns.distplot((customers_df['customer_lifetime_value']), bins=20)"
   ]
  },
  {
   "cell_type": "code",
   "execution_count": null,
   "id": "b3042bcb-67aa-417c-9faf-945e45e12717",
   "metadata": {},
   "outputs": [],
   "source": [
    "monthly=boxcox(customers_df['customer_lifetime_value'],lmbda=-0.04)"
   ]
  },
  {
   "cell_type": "code",
   "execution_count": null,
   "id": "e5286e69-a780-4b7c-af43-5eb852ab7680",
   "metadata": {},
   "outputs": [],
   "source": [
    "sns.histplot(monthly)"
   ]
  },
  {
   "cell_type": "code",
   "execution_count": null,
   "id": "d130e95c-8a73-4861-9709-3e2d6ac6de46",
   "metadata": {},
   "outputs": [],
   "source": [
    "sns.distplot((customers_df['monthly_premium_auto']), bins=20)"
   ]
  },
  {
   "cell_type": "code",
   "execution_count": null,
   "id": "4e23d593-754f-4dba-b23d-022f6f0a6b6b",
   "metadata": {},
   "outputs": [],
   "source": [
    "pt = PowerTransformer()\n",
    "monthly=pt.fit_transform(customers_df['monthly_premium_auto'].to_numpy().reshape(-1,1))\n",
    "sns.displot(monthly)"
   ]
  },
  {
   "cell_type": "code",
   "execution_count": null,
   "id": "0c28f9f5-e4a5-4b71-ac11-61540541f444",
   "metadata": {},
   "outputs": [],
   "source": [
    "monthly,lam=boxcox(customers_df['monthly_premium_auto'])\n",
    "sns.histplot(monthly)"
   ]
  },
  {
   "cell_type": "code",
   "execution_count": null,
   "id": "601e94c6-b584-4c75-aa5a-6f109cf2a02c",
   "metadata": {},
   "outputs": [],
   "source": [
    "qt = QuantileTransformer()\n",
    "monthly=qt.fit_transform(customers_df['monthly_premium_auto'].to_numpy().reshape(-1,1))\n",
    "sns.histplot(monthly)"
   ]
  },
  {
   "cell_type": "code",
   "execution_count": null,
   "id": "9b5494da-f9d7-4cd0-93b2-a05427d61a8d",
   "metadata": {},
   "outputs": [],
   "source": [
    "sns.regplot(x='monthly_premium_auto',y='total_claim_amount', data=customers_df, scatter_kws={\"color\": \"olive\"}, line_kws={\"color\": \"black\"})"
   ]
  },
  {
   "cell_type": "code",
   "execution_count": null,
   "id": "e1aa4280-fe97-4b4e-b214-39291c323369",
   "metadata": {},
   "outputs": [],
   "source": [
    "# multicorelliniality\n",
    "correlations = numericals_features.corr()\n",
    "print(correlations)\n",
    "cmap = sns.cm.rocket_r  ## for reversing the colors\n",
    "mask=np.zeros_like(numericals_features.corr())\n",
    "mask[np.triu_indices_from(mask)]=True\n",
    "fig, ax=plt.subplots(figsize=(10, 8))\n",
    "ax=sns.heatmap(numericals_features.corr(), mask=mask, annot=True,cmap=cmap)\n",
    "plt.show()"
   ]
  },
  {
   "cell_type": "code",
   "execution_count": null,
   "id": "5c3d329d-6575-4bbe-96ab-1634e31b2101",
   "metadata": {},
   "outputs": [],
   "source": [
    "X=customers_df.drop('total_claim_amount', axis=1)\n",
    "y=customers_df.total_claim_amount\n",
    "\n",
    "X=X.drop(columns=['effective_to_date'])"
   ]
  },
  {
   "cell_type": "code",
   "execution_count": null,
   "id": "8a9f28c8-03bd-4184-b4ee-e221e641e6e6",
   "metadata": {},
   "outputs": [],
   "source": [
    "numericals_features =X._get_numeric_data()\n",
    "## numericals =data.select_dtypes(np.number)\n",
    "numericals_features.head()"
   ]
  },
  {
   "cell_type": "code",
   "execution_count": null,
   "id": "baacb4ae-35c9-4861-a074-8bd85cf78f9c",
   "metadata": {},
   "outputs": [],
   "source": [
    "numericals_features.describe()"
   ]
  },
  {
   "cell_type": "code",
   "execution_count": null,
   "id": "ab710a79-3400-4ca1-b19f-4d0cb6883d1e",
   "metadata": {},
   "outputs": [],
   "source": [
    "## standardize\n",
    "X_scaled=StandardScaler().fit_transform(numericals_features)\n",
    "X_scaled.shape"
   ]
  },
  {
   "cell_type": "code",
   "execution_count": null,
   "id": "eba1ad72-977d-44cd-9e92-fb4f30515068",
   "metadata": {},
   "outputs": [],
   "source": [
    "## categorical d.\n",
    "categoricals_features = X.select_dtypes(object)\n",
    "categoricals_features.head()"
   ]
  },
  {
   "cell_type": "code",
   "execution_count": null,
   "id": "8a54bb91-8c8d-4a77-b035-046c8c8c3d47",
   "metadata": {},
   "outputs": [],
   "source": [
    "# categorial variables transf.\n",
    "# get dummies pandas\n",
    "categoricals_features=pd.get_dummies(categoricals_features, drop_first=True)\n",
    "##pd.DataFrame(OneHotEncoder(drop='first').fit_transform(categoricals_features).toarray(),\n",
    "## columns=OneHotEncoder(drop='first').fit(categoricals_features).get_feature_names(input_features=categoricals_features.columns)).head()"
   ]
  },
  {
   "cell_type": "code",
   "execution_count": null,
   "id": "803dcb90-0bfc-425f-8a79-4ab704255255",
   "metadata": {},
   "outputs": [],
   "source": [
    "categoricals_features"
   ]
  },
  {
   "cell_type": "code",
   "execution_count": null,
   "id": "3f3bdfce-f0be-4564-bd12-70d4285d6cfe",
   "metadata": {},
   "outputs": [],
   "source": [
    "all_features=pd.concat([numericals_features, categoricals_features], axis=1) # concat numerical and categorical transformations\n",
    "all_features.head()"
   ]
  },
  {
   "cell_type": "code",
   "execution_count": null,
   "id": "6b499d72-075a-4970-b4c5-5f3ffed767d8",
   "metadata": {},
   "outputs": [],
   "source": [
    "# train test split\n",
    "X_train, X_test, y_train, y_test=train_test_split(all_features, y, test_size=.20)\n",
    "X_train"
   ]
  },
  {
   "cell_type": "code",
   "execution_count": null,
   "id": "a14417a5-b28d-44a9-89c7-c6179a7896ba",
   "metadata": {},
   "outputs": [],
   "source": [
    "## linear regression appl.\n",
    "y_pred"
   ]
  },
  {
   "cell_type": "code",
   "execution_count": null,
   "id": "cd50bb9c-328a-4146-b879-97c518c2fda4",
   "metadata": {},
   "outputs": [],
   "source": [
    "model=LinearRegression()    # model\n",
    "model.fit(X_train.to_numpy(), y_train)   # model train\n",
    "\n",
    "y\n",
    "y_pred=model.predict(X_test.to_numpy())   # model prediction\n",
    "\n",
    "\n",
    "y_pred_train=model.predict(X_train.to_numpy())"
   ]
  },
  {
   "cell_type": "code",
   "execution_count": null,
   "id": "d9a2f540-dd8b-4fc7-8f99-06040453049d",
   "metadata": {},
   "outputs": [],
   "source": [
    "fig, ax = plt.subplots(2,2)\n",
    "ax[0,0].plot(y_pred, y_test, 'o')\n",
    "ax[0,0].set_xlabel(\"y_test\")\n",
    "ax[0,0].set_ylabel(\"y_pred\")\n",
    "ax[0,0].set_title(\"Test Set -Predicted vs real\")"
   ]
  },
  {
   "cell_type": "code",
   "execution_count": null,
   "id": "1d411db0-e569-4fc3-bb7a-fb5b875cfe72",
   "metadata": {},
   "outputs": [],
   "source": [
    "ax[0,1].hist(y_test - y_pred)\n",
    "ax[0,1].set_xlabel(\"Test y-y_pred\")\n",
    "ax[0,1].set_title(\"Test Set Residual histogram\")"
   ]
  },
  {
   "cell_type": "code",
   "execution_count": null,
   "id": "4a061678-6cee-4f6b-85d5-41330e651541",
   "metadata": {},
   "outputs": [],
   "source": [
    "ax[1,0].plot(y_pred_train, y_train, 'o')\n",
    "ax[1,0].set_xlabel(\"y_train\")\n",
    "ax[1,0].set_ylabel(\"y_pred_train\")\n",
    "ax[1,0].set_title(\"Train set Predicted vs real\")"
   ]
  },
  {
   "cell_type": "code",
   "execution_count": null,
   "id": "f010e5a5-0bd6-4c25-a5bf-f563f68d65ea",
   "metadata": {},
   "outputs": [],
   "source": [
    "ax[1,1].hist(y_train - y_pred_train)\n",
    "ax[1,1].set_xlabel(\"Train y-y_pred\")\n",
    "ax[1,1].set_title(\"Train Residual histogram\")"
   ]
  },
  {
   "cell_type": "code",
   "execution_count": null,
   "id": "aae986a8-7351-46e4-8fc1-f959b826e529",
   "metadata": {},
   "outputs": [],
   "source": [
    "# validation\n",
    "train_mse=mse(y_train,model.predict(X_train.to_numpy()))\n",
    "test_mse=mse(y_test,model.predict(X_test.to_numpy()))\n",
    "\n",
    "print ('train MSE: {} -- test MSE: {}'.format(train_mse, test_mse))"
   ]
  },
  {
   "cell_type": "code",
   "execution_count": null,
   "id": "f3dafd3a-6c37-4506-8c13-faf2128c0351",
   "metadata": {},
   "outputs": [],
   "source": [
    "print ('train RMSE: {} -- test RMSE: {}'.format(train_mse**.5, test_mse**.5))"
   ]
  },
  {
   "cell_type": "code",
   "execution_count": null,
   "id": "ee17e764-0680-4a09-aea1-1cadd81ea21b",
   "metadata": {},
   "outputs": [],
   "source": [
    "train_mae=mae(y_train,model.predict(X_train.to_numpy()))\n",
    "test_mae=mae(y_test,model.predict(X_test.to_numpy()))\n",
    "\n",
    "print ('train MAE: {} -- test MAE: {}'.format(train_mse, test_mse))"
   ]
  },
  {
   "cell_type": "code",
   "execution_count": null,
   "id": "f5f0cc20-01e2-44d2-a13e-55f5f3eb25a4",
   "metadata": {},
   "outputs": [],
   "source": [
    "r2= model.score(X_test.to_numpy(), y_test)\n",
    "print (r2)\n",
    "\n",
    "print(r2_score(y_test,model.predict(X_test.to_numpy())))"
   ]
  },
  {
   "cell_type": "code",
   "execution_count": null,
   "id": "6c57f5d3-d9d8-43e5-832f-3f8d99cae38d",
   "metadata": {},
   "outputs": [],
   "source": [
    "print ('train R2: {} -- test R2: {}'.format(model.score(X_train.to_numpy(), y_train),\n",
    "                                            model.score(X_test.to_numpy(), y_test)))"
   ]
  },
  {
   "cell_type": "code",
   "execution_count": null,
   "id": "fc795ea2-652b-4074-9e83-d5c73805eb07",
   "metadata": {},
   "outputs": [],
   "source": [
    "N=X_train.shape[0]\n",
    "p=36\n",
    "x = (1-r2)\n",
    "y = (N-1) / (N-p-1)\n",
    "adj_rsquared = (1 - (x * y))\n",
    "print(\"Adjusted-R2 : \" , adj_rsquared)"
   ]
  },
  {
   "cell_type": "code",
   "execution_count": null,
   "id": "390ad91b-234f-4137-bc96-14543c6f72ec",
   "metadata": {},
   "outputs": [],
   "source": [
    "# f-importance\n",
    "features_importances = pd.DataFrame(data={\n",
    "    'Attribute': X_train.columns,\n",
    "    'Importance': model.coef_\n",
    "})\n",
    "features_importances = features_importances.sort_values(by='Importance', ascending=False)\n",
    "features_importances"
   ]
  },
  {
   "cell_type": "code",
   "execution_count": null,
   "id": "8070dc43-bc8c-456c-853d-c4637dc166d4",
   "metadata": {},
   "outputs": [],
   "source": [
    "plt.bar(x=features_importances['Attribute'], height=features_importances['Importance'], color='#087E8B')\n",
    "plt.title('Feature importances obtained from coefficients', size=20)\n",
    "plt.xticks(rotation='vertical')\n",
    "plt.show()"
   ]
  }
 ],
 "metadata": {
  "kernelspec": {
   "display_name": "Python 3",
   "language": "python",
   "name": "python3"
  },
  "language_info": {
   "codemirror_mode": {
    "name": "ipython",
    "version": 3
   },
   "file_extension": ".py",
   "mimetype": "text/x-python",
   "name": "python",
   "nbconvert_exporter": "python",
   "pygments_lexer": "ipython3",
   "version": "3.8.8"
  }
 },
 "nbformat": 4,
 "nbformat_minor": 5
}
