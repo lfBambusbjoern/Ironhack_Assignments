{
 "cells": [
  {
   "cell_type": "code",
   "execution_count": null,
   "id": "dc405f8c-9e7d-4094-a2cc-1259eb18e4d2",
   "metadata": {},
   "outputs": [],
   "source": [
    "import pandas as pd\n",
    "import pickle\n",
    "import numpy as np\n",
    "import matplotlib.pyplot as plt\n",
    "\n",
    "import warnings\n",
    "warnings.filterwarnings('ignore')\n",
    "\n",
    "from sklearn.linear_model import LogisticRegression\n",
    "from sklearn.preprocessing import StandardScaler\n",
    "from sklearn.model_selection import train_test_split\n",
    "pd.set_option('display.max_columns', None)\n",
    "from sklearn.metrics import accuracy_score, precision_score, recall_score, confusion_matrix\n",
    "from sklearn.metrics import plot_confusion_matrix"
   ]
  },
  {
   "cell_type": "code",
   "execution_count": null,
   "id": "9a24f5a8-16d8-464f-907c-5b318329d631",
   "metadata": {
    "tags": []
   },
   "outputs": [],
   "source": [
    "churnData = pd.read_csv('/Users/lf/Desktop/IRONHACK/00_DATA_ARCHIVE/customer_churn.csv')\n",
    "churnData.head()"
   ]
  },
  {
   "cell_type": "code",
   "execution_count": null,
   "id": "3944090b-71b3-4076-9e8e-9cb2ecd69c01",
   "metadata": {},
   "outputs": [],
   "source": [
    "churnData['Churn'].value_counts()"
   ]
  },
  {
   "cell_type": "code",
   "execution_count": null,
   "id": "1b9d509a-54bd-4c14-a977-8f88bd01b7b9",
   "metadata": {},
   "outputs": [],
   "source": [
    "churnData.dtypes\n",
    "churnData['TotalCharges']  = pd.to_numeric(churnData['TotalCharges'], errors='coerce')\n",
    "churnData.isna().sum()\n",
    "churnData['TotalCharges'] = churnData['TotalCharges'].fillna(np.mean(churnData['TotalCharges']))"
   ]
  },
  {
   "cell_type": "code",
   "execution_count": null,
   "id": "730bfb47-67be-49e2-8932-874829c8a6e2",
   "metadata": {},
   "outputs": [],
   "source": [
    "X = churnData[['tenure', 'SeniorCitizen','MonthlyCharges', 'TotalCharges']]\n",
    "y = pd.DataFrame(data=churnData, columns=['Churn'])\n",
    "transformer = StandardScaler().fit(X)\n",
    "scaled_x = transformer.transform(X)"
   ]
  },
  {
   "cell_type": "code",
   "execution_count": null,
   "id": "a052b22f-09ef-4097-a24b-48c312c931d8",
   "metadata": {},
   "outputs": [],
   "source": [
    "X_test.shape"
   ]
  },
  {
   "cell_type": "code",
   "execution_count": null,
   "id": "32cfc484-f26f-4dff-817a-9dc07058968a",
   "metadata": {},
   "outputs": [],
   "source": [
    "X_train, X_test, y_train, y_test = train_test_split(scaled_x, y, test_size=0.30)\n",
    "classification = LogisticRegression(random_state=0).fit(X_train, y_train)\n",
    "y_pred_test = classification.predict(X_test)"
   ]
  },
  {
   "cell_type": "code",
   "execution_count": null,
   "id": "f2f39607-35ad-4e1d-802f-bd2bf9444662",
   "metadata": {},
   "outputs": [],
   "source": [
    "def performance_log(y_test, y_pred_test):\n",
    "    return pd.DataFrame({'Error_metric': ['Accuracy','Precision','Recall'],\n",
    "                               'Test': [accuracy_score(y_test, y_pred_test),\n",
    "                                        precision_score(y_test, y_pred_test,pos_label=\"Yes\"),\n",
    "                                        recall_score(y_test, y_pred_test,pos_label=\"Yes\")]})"
   ]
  },
  {
   "cell_type": "code",
   "execution_count": null,
   "id": "fcfba44e-dfc0-4c32-bae0-c14086f8e064",
   "metadata": {},
   "outputs": [],
   "source": [
    "performance_log(y_test, y_pred_test)"
   ]
  },
  {
   "cell_type": "code",
   "execution_count": null,
   "id": "e3e2fc15-af3f-4b97-8119-f5694e3aae4e",
   "metadata": {},
   "outputs": [],
   "source": [
    "def plot_conf_matrix(y_test, y_pred_test):\n",
    "    print(\"Confusion matrix for the test set\")\n",
    "    print(confusion_matrix(y_test, y_pred_test))\n",
    "    plot_confusion_matrix(classification,X_test,y_test, values_format = 'd')\n",
    "    plt.show()"
   ]
  },
  {
   "cell_type": "code",
   "execution_count": null,
   "id": "484e18e9-056f-47fc-8f83-b95102840c33",
   "metadata": {},
   "outputs": [],
   "source": [
    "X_test.shape"
   ]
  },
  {
   "cell_type": "code",
   "execution_count": null,
   "id": "e466e6a6-f911-4ae9-a72c-b8a07c4bf002",
   "metadata": {},
   "outputs": [],
   "source": [
    "plot_conf_matrix(y_test, y_pred_test)"
   ]
  },
  {
   "cell_type": "code",
   "execution_count": null,
   "id": "50b73b1e-da12-43f6-8f23-60d4c165f77d",
   "metadata": {},
   "outputs": [],
   "source": []
  },
  {
   "cell_type": "code",
   "execution_count": null,
   "id": "a5a55a41-d66c-4131-80e0-f4b5df47c061",
   "metadata": {},
   "outputs": [],
   "source": [
    "counts = churnData['Churn'].value_counts()\n",
    "counts"
   ]
  },
  {
   "cell_type": "code",
   "execution_count": null,
   "id": "e79c7269-eea8-4c9b-8e5f-337179f4a3e8",
   "metadata": {},
   "outputs": [],
   "source": [
    "yes = churnData[churnData['Churn']=='Yes'].sample(counts[0], replace=True)\n",
    "no = churnData[churnData['Churn']=='No']\n",
    "data = pd.concat([yes,no], axis=0)\n",
    "data = data.sample(frac=1)"
   ]
  },
  {
   "cell_type": "code",
   "execution_count": null,
   "id": "8cfddcef-2a84-48b1-982a-d178a8bf4d16",
   "metadata": {},
   "outputs": [],
   "source": [
    "data['Churn'].value_counts()"
   ]
  },
  {
   "cell_type": "code",
   "execution_count": null,
   "id": "4d3de4d1-599d-4a08-8be0-e3ee518e9195",
   "metadata": {},
   "outputs": [],
   "source": [
    "X = data[['tenure', 'SeniorCitizen','MonthlyCharges', 'TotalCharges']]\n",
    "y = pd.DataFrame(data['Churn'])\n",
    "\n",
    "transformer = StandardScaler().fit(X)\n",
    "scaled_x = transformer.transform(X)\n",
    "\n",
    "X_train, X_test, y_train, y_test = train_test_split(scaled_x, y, test_size=0.30)\n",
    "classification = LogisticRegression(random_state=0).fit(X_train, y_train)\n",
    "y_pred_test = classification.predict(X_test)"
   ]
  },
  {
   "cell_type": "code",
   "execution_count": null,
   "id": "5f2912d2-7a99-468d-b462-222aa396132e",
   "metadata": {},
   "outputs": [],
   "source": [
    "# accuracy\n",
    "classification.score(X_test, y_test)"
   ]
  },
  {
   "cell_type": "code",
   "execution_count": null,
   "id": "ec512184-e23a-49c5-bec5-b11f9294e435",
   "metadata": {},
   "outputs": [],
   "source": [
    "performance_log(y_test, y_pred_test)"
   ]
  },
  {
   "cell_type": "code",
   "execution_count": null,
   "id": "eb9cf3df-09d3-42c7-b979-791d20a07c09",
   "metadata": {},
   "outputs": [],
   "source": [
    "plot_conf_matrix(y_test, y_pred_test)"
   ]
  },
  {
   "cell_type": "code",
   "execution_count": null,
   "id": "f00c151b-5796-4084-8ad5-f8b91cc18769",
   "metadata": {},
   "outputs": [],
   "source": []
  },
  {
   "cell_type": "code",
   "execution_count": null,
   "id": "4143ce0c-c646-4d3e-aa8c-6ed27a1bfe2a",
   "metadata": {},
   "outputs": [],
   "source": [
    "yes = churnData[churnData['Churn']=='Yes']\n",
    "no = churnData[churnData['Churn']=='No']\n",
    "no = no.sample(len(yes))\n",
    "data = pd.concat([yes,no], axis=0)\n",
    "data = data.sample(frac=1)\n",
    "data['Churn'].value_counts()"
   ]
  },
  {
   "cell_type": "code",
   "execution_count": null,
   "id": "9782e466-a543-40bf-acbf-3cf38a2a182a",
   "metadata": {},
   "outputs": [],
   "source": [
    "X = data[['tenure', 'SeniorCitizen','MonthlyCharges', 'TotalCharges']]\n",
    "y = pd.DataFrame(data['Churn'])\n",
    "\n",
    "transformer = StandardScaler().fit(X)\n",
    "scaled_x = transformer.transform(X)\n",
    "\n",
    "X_train, X_test, y_train, y_test = train_test_split(scaled_x, y, test_size=0.33)\n",
    "classification = LogisticRegression(random_state=0).fit(X_train, y_train)\n",
    "y_pred_test = classification.predict(X_test)"
   ]
  },
  {
   "cell_type": "code",
   "execution_count": null,
   "id": "9fc87736-05ae-4483-9651-02edff8f9558",
   "metadata": {},
   "outputs": [],
   "source": [
    "# accuracy\n",
    "classification.score(X_test, y_test)"
   ]
  },
  {
   "cell_type": "code",
   "execution_count": null,
   "id": "d872967c-21e8-4720-9382-b91e5935623f",
   "metadata": {},
   "outputs": [],
   "source": [
    "performance_log(y_test, y_pred_test)"
   ]
  }
 ],
 "metadata": {
  "kernelspec": {
   "display_name": "Python 3",
   "language": "python",
   "name": "python3"
  },
  "language_info": {
   "codemirror_mode": {
    "name": "ipython",
    "version": 3
   },
   "file_extension": ".py",
   "mimetype": "text/x-python",
   "name": "python",
   "nbconvert_exporter": "python",
   "pygments_lexer": "ipython3",
   "version": "3.8.8"
  }
 },
 "nbformat": 4,
 "nbformat_minor": 5
}
