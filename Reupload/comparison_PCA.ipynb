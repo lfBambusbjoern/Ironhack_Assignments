{
 "cells": [
  {
   "cell_type": "code",
   "execution_count": 2,
   "id": "d9ebad68-849a-43aa-96e9-ad2bb1b54426",
   "metadata": {},
   "outputs": [],
   "source": [
    "import numpy as np\n",
    "import pandas as pd\n",
    "\n",
    "import matplotlib.pyplot as plt\n",
    "import seaborn as sns"
   ]
  },
  {
   "cell_type": "code",
   "execution_count": null,
   "id": "89b4ea86-ae1b-4674-af3c-ea07e40b2afa",
   "metadata": {},
   "outputs": [],
   "source": [
    "breast_cancer = pd.read_csv('/Users/lf/Desktop/IRONHACK/00_DATA_ARCHIVE/breast-cancer.csv', header=None)\n",
    "breast_cancer.head()"
   ]
  },
  {
   "cell_type": "code",
   "execution_count": null,
   "id": "b936c792-9246-4d7f-aea8-e62d122d4a9d",
   "metadata": {},
   "outputs": [],
   "source": [
    "total_cols = ['id', 'outcome', 'time', 'cell_1_radius', 'cell_1_texture', 'cell_1_perimiter',\n",
    "              'cell_1_area', 'cell_1_smoothness', 'cell_1_compactness', 'cell_1_concavity',\n",
    "              'cell_1_concave_points', 'cell_1_symmetry', 'cell_1_fractal_dimension',\n",
    "              'cell_2_radius', 'cell_2_texture', 'cell_2_perimiter', 'cell_2_area',\n",
    "              'cell_2_smoothness', 'cell_2_compactness', 'cell_2_concavity',\n",
    "              'cell_2_concave_points', 'cell_2_symmetry', 'cell_2_fractal_dimension', 'cell_3_radius', \n",
    "              'cell_3_texture', 'cell_3_perimiter', 'cell_3_area', 'cell_3_smoothness',\n",
    "              'cell_3_compactness', 'cell_3_concavity', 'cell_3_concave_points', 'cell_3_symmetry',\n",
    "              'cell_3_fractal_dimension', 'tumor_size', 'lymph_status']\n",
    "breast_cancer.columns = total_cols"
   ]
  },
  {
   "cell_type": "code",
   "execution_count": null,
   "id": "6995d325-70d2-44f2-95b4-b294f865455b",
   "metadata": {},
   "outputs": [],
   "source": [
    "breast_cancer.head(5)"
   ]
  },
  {
   "cell_type": "code",
   "execution_count": null,
   "id": "237f982b-4f48-4e1e-9700-9a8277702157",
   "metadata": {},
   "outputs": [],
   "source": [
    "numerics = breast_cancer._get_numeric_data()"
   ]
  },
  {
   "cell_type": "code",
   "execution_count": null,
   "id": "c6d9aa07-4837-4084-9a6e-8f1badb8acec",
   "metadata": {},
   "outputs": [],
   "source": [
    "numerics.head(5)"
   ]
  },
  {
   "cell_type": "code",
   "execution_count": null,
   "id": "7d157533-a4c9-4c91-8524-48c1bbf113fe",
   "metadata": {},
   "outputs": [],
   "source": [
    "numerics = numerics.drop(['id','time'], axis=1)"
   ]
  },
  {
   "cell_type": "code",
   "execution_count": null,
   "id": "9037db89-3746-4a44-bee7-16c4618f794a",
   "metadata": {},
   "outputs": [],
   "source": []
  },
  {
   "cell_type": "code",
   "execution_count": null,
   "id": "30242cbb-9011-44e5-819e-d7fa48d4dfc7",
   "metadata": {},
   "outputs": [],
   "source": [
    "from sklearn.preprocessing import StandardScaler\n",
    "\n",
    "transformer = StandardScaler().fit(numerics)\n",
    "scaled = transformer.transform(numerics)\n",
    "scaled = pd.DataFrame(scaled)\n",
    "scaled.columns = numerics.columns \n",
    "scaled.head()"
   ]
  },
  {
   "cell_type": "code",
   "execution_count": null,
   "id": "9e10e69c-fd1d-44b0-82d0-e290484976d9",
   "metadata": {},
   "outputs": [],
   "source": [
    "from sklearn.decomposition import PCA\n",
    "from sklearn import preprocessing\n",
    "pca = PCA()\n",
    "pca.fit(scaled)"
   ]
  },
  {
   "cell_type": "code",
   "execution_count": null,
   "id": "8d5c1acf-cc1e-4139-8bc9-9c8692d99a9c",
   "metadata": {},
   "outputs": [],
   "source": [
    "variations = pca.explained_variance_ratio_*100\n",
    "variations = np.round(variations, decimals=1)\n",
    "variations"
   ]
  },
  {
   "cell_type": "code",
   "execution_count": null,
   "id": "e0e37eed-db70-4cc7-acef-f3272c6b9a80",
   "metadata": {},
   "outputs": [],
   "source": [
    "plot_labels = ['PC'+str(i) for i in range(1,len(variations)+1)]\n",
    "plot_labels"
   ]
  },
  {
   "cell_type": "code",
   "execution_count": null,
   "id": "50aa5af1-07d6-44a1-b854-ca51573ba7f5",
   "metadata": {},
   "outputs": [],
   "source": [
    "from matplotlib.pyplot import figure\n",
    "figure(figsize=(20,5))\n",
    "plt.bar(x = plot_labels, height=variations)\n",
    "plt.xlabel('Principal Components')\n",
    "plt.ylabel('Variance Explained')\n",
    "plt.title('PCA Scree Plot')"
   ]
  },
  {
   "cell_type": "code",
   "execution_count": null,
   "id": "20e59e2c-eef5-4fef-9bf5-377b82fc11fb",
   "metadata": {},
   "outputs": [],
   "source": [
    "data = pd.DataFrame(pca.components_)\n",
    "data = data[[0,1,2]]\n",
    "data.columns = ['PC1', 'PC2', 'PC3']\n",
    "data.head()"
   ]
  }
 ],
 "metadata": {
  "kernelspec": {
   "display_name": "Python 3",
   "language": "python",
   "name": "python3"
  },
  "language_info": {
   "codemirror_mode": {
    "name": "ipython",
    "version": 3
   },
   "file_extension": ".py",
   "mimetype": "text/x-python",
   "name": "python",
   "nbconvert_exporter": "python",
   "pygments_lexer": "ipython3",
   "version": "3.8.8"
  }
 },
 "nbformat": 4,
 "nbformat_minor": 5
}
