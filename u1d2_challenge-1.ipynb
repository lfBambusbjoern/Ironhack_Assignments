{
 "cells": [
  {
   "cell_type": "markdown",
   "metadata": {},
   "source": [
    "## Challenge 1: Done\n",
    "\n",
    "Do you know you can create tuples with only one element?\n",
    "\n",
    "**In the cell below, define a variable tup with a single element \"I\".**\n",
    "\n",
    "Hint: you need to add a comma (,) after the single element."
   ]
  },
  {
   "cell_type": "code",
   "execution_count": 1,
   "metadata": {},
   "outputs": [
    {
     "data": {
      "text/plain": [
       "('I',)"
      ]
     },
     "execution_count": 1,
     "metadata": {},
     "output_type": "execute_result"
    }
   ],
   "source": [
    "mytuple = ('I',)\n",
    "mytuple"
   ]
  },
  {
   "cell_type": "markdown",
   "metadata": {},
   "source": [
    "**Print the type of tup.**\n",
    "\n",
    "Make sure its type is correct (i.e. tuple instead of str).\n"
   ]
  },
  {
   "cell_type": "code",
   "execution_count": 3,
   "metadata": {},
   "outputs": [
    {
     "data": {
      "text/plain": [
       "tuple"
      ]
     },
     "execution_count": 3,
     "metadata": {},
     "output_type": "execute_result"
    }
   ],
   "source": [
    "type(mytuple)"
   ]
  },
  {
   "cell_type": "markdown",
   "metadata": {},
   "source": [
    "**Now try to append the following elements to tup.**\n",
    "\n",
    "Are you able to do it? Explain.\n",
    "\n",
    "\"r\", \"o\", \"n\", \"h\", \"a\", \"c\", \"k',"
   ]
  },
  {
   "cell_type": "code",
   "execution_count": 4,
   "metadata": {},
   "outputs": [
    {
     "data": {
      "text/plain": [
       "['I', 'r', 'o', 'n', 'h', 'a', 'c', 'k']"
      ]
     },
     "execution_count": 4,
     "metadata": {},
     "output_type": "execute_result"
    }
   ],
   "source": [
    "# turn the tuple into a list to be able to append.\n",
    "tuplelist = list(mytuple)\n",
    "\n",
    "# create a list for the new items.\n",
    "new_items = [\"r\", \"o\", \"n\", \"h\", \"a\", \"c\", \"k\"]\n",
    "\n",
    "# every item from the new_items list should be appended to the tuplelist.\n",
    "for item in new_items: \n",
    "    tuplelist.append(item)\n",
    "    \n",
    "tuplelist"
   ]
  },
  {
   "cell_type": "markdown",
   "metadata": {},
   "source": [
    "How about re-assign a new value to an existing tuple?\n",
    "\n",
    "**Re-assign the following elements to tup.** Are you able to do it? Explain.\n",
    "\n",
    "\"I\", \"r\", \"o\", \"n\", \"h\", \"a\", \"c\", \"k\""
   ]
  },
  {
   "cell_type": "code",
   "execution_count": 5,
   "metadata": {},
   "outputs": [],
   "source": [
    "new_tuple = tuple(tuplelist)"
   ]
  },
  {
   "cell_type": "markdown",
   "metadata": {},
   "source": [
    "**Split tup into tup1 and tup2 with 4 elements in each.**\n",
    "\n",
    "tup1 should be (\"I\", \"r\", \"o\", \"n\") and tup2 should be (\"h\", \"a\", \"c\", \"k\").\n",
    "\n",
    "Hint: use positive index numbers for tup1 assignment and use negative index numbers for tup2 assignment. Positive index numbers count from the beginning whereas negative index numbers count from the end of the sequence.\n",
    "\n",
    "Also print tup1 and tup2."
   ]
  },
  {
   "cell_type": "code",
   "execution_count": 6,
   "metadata": {},
   "outputs": [
    {
     "name": "stdout",
     "output_type": "stream",
     "text": [
      "The elements of tup1 are ('I', 'r', 'o', 'n') and the elements of tup2 are ('h', 'a', 'c', 'k').\n"
     ]
    }
   ],
   "source": [
    "tup1 = new_tuple[0:4]\n",
    "tup2 = new_tuple[4:]\n",
    "\n",
    "print(\"The elements of tup1 are \" + str(tup1) + \" and the elements of tup2 are \" + str(tup2) + \".\")"
   ]
  },
  {
   "cell_type": "markdown",
   "metadata": {},
   "source": [
    "**Add tup1 and tup2 into tup3 using the + operator.**\n",
    "\n",
    "Then print tup3 and check if tup3 equals to tup."
   ]
  },
  {
   "cell_type": "code",
   "execution_count": 7,
   "metadata": {},
   "outputs": [
    {
     "name": "stdout",
     "output_type": "stream",
     "text": [
      "('I', 'r', 'o', 'n', 'h', 'a', 'c', 'k')\n"
     ]
    }
   ],
   "source": [
    "tup3 = tup1 + tup2\n",
    "print(tup3)"
   ]
  },
  {
   "cell_type": "markdown",
   "metadata": {},
   "source": [
    "**Count the number of elements in tup1 and tup2. Then add the two counts together and check if the sum is the same as the number of elements in tup3**"
   ]
  },
  {
   "cell_type": "code",
   "execution_count": 8,
   "metadata": {},
   "outputs": [
    {
     "name": "stdout",
     "output_type": "stream",
     "text": [
      "Tup1 consists of 4 elements.\n",
      "Tup2 consists of 4 elements.\n",
      "Tup3 consists of 8 elements.\n",
      "Tup1 + Tup2 = Tup3\n"
     ]
    }
   ],
   "source": [
    "tup1_count = len(tup1)\n",
    "print(\"Tup1 consists of \" + str(tup1_count) + \" elements.\")\n",
    "tup2_count = len(tup2)\n",
    "print(\"Tup2 consists of \" + str(tup2_count) + \" elements.\")\n",
    "tup3_count = len(tup3)\n",
    "print(\"Tup3 consists of \" + str(tup3_count) + \" elements.\")\n",
    "\n",
    "if tup1_count + tup2_count == tup3_count:\n",
    "    print(\"Tup1 + Tup2 = Tup3\")\n",
    "    \n",
    "elif tup1_count + tup2_count < tup3_count:\n",
    "    print(\"Tup1 + Tup2 < Tup3. ERROR.\")\n",
    "    \n",
    "elif tup1_count + tup2_count > tup3_count:\n",
    "    print(\"Tup1 + Tup2 > Tup3. ERROR.\")\n",
    "    \n",
    "else:\n",
    "    print(\"Something doesn't add up.\")"
   ]
  },
  {
   "cell_type": "markdown",
   "metadata": {},
   "source": [
    "**What is the index number of \"h\" in tup3?**"
   ]
  },
  {
   "cell_type": "code",
   "execution_count": 9,
   "metadata": {},
   "outputs": [
    {
     "name": "stdout",
     "output_type": "stream",
     "text": [
      "Tup3 consists of the following elements: ['I', 'r', 'o', 'n', 'h', 'a', 'c', 'k']\n"
     ]
    },
    {
     "name": "stdin",
     "output_type": "stream",
     "text": [
      "Please enter the element to be checked:  h\n"
     ]
    },
    {
     "name": "stdout",
     "output_type": "stream",
     "text": [
      "The chosen element has the following index: 4.\n"
     ]
    }
   ],
   "source": [
    "# first I convert tup3 into a list again.\n",
    "tup3_list = list(tup3)\n",
    "print(\"Tup3 consists of the following elements: \" + str(tup3_list))\n",
    "\n",
    "# get the index of chosen element.\n",
    "index = tup3_list.index(input(\"Please enter the element to be checked: \")) # choose \"h.\"\n",
    "print(\"The chosen element has the following index: \" + str(index) + \".\") # if you choose \"h\", the index is 4."
   ]
  },
  {
   "cell_type": "markdown",
   "metadata": {},
   "source": [
    "**Now, use a FOR loop to check whether each letter in the following list is present in tup3:**\n",
    "\n",
    "letters = [\"a\", \"b\", \"c\", \"d\", \"e\"]\n",
    "\n",
    "For each letter you check, print True if it is present in tup3 otherwise print False.\n",
    "\n",
    "Hint: you only need to loop letters. You don't need to loop tup3 because there is a Python operator in you can use. See reference (https://stackoverflow.com/questions/17920147/how-to-check-if-a-tuple-contains-an-element-in-python).\n"
   ]
  },
  {
   "cell_type": "code",
   "execution_count": 10,
   "metadata": {},
   "outputs": [
    {
     "name": "stdout",
     "output_type": "stream",
     "text": [
      "True\n",
      "False\n",
      "True\n",
      "False\n",
      "False\n"
     ]
    }
   ],
   "source": [
    "letters = ['a', 'b', 'c', 'd', 'e']\n",
    "\n",
    "for l in letters:\n",
    "    if (l in tup3_list):\n",
    "        print(\"True\")\n",
    "    else:\n",
    "        print(\"False\")"
   ]
  },
  {
   "cell_type": "markdown",
   "metadata": {},
   "source": [
    "**How many times does each letter in letters appear in tup3?**\n",
    "\n",
    "Print out the number of occurrence of each letter."
   ]
  },
  {
   "cell_type": "code",
   "execution_count": 12,
   "metadata": {},
   "outputs": [
    {
     "name": "stdout",
     "output_type": "stream",
     "text": [
      "Counter({'I': 1, 'r': 1, 'o': 1, 'n': 1, 'h': 1, 'a': 1, 'c': 1, 'k': 1})\n"
     ]
    }
   ],
   "source": [
    "from collections import Counter\n",
    "occurence = Counter(tup3_list)\n",
    "print(occurence)"
   ]
  },
  {
   "cell_type": "code",
   "execution_count": null,
   "metadata": {},
   "outputs": [],
   "source": []
  }
 ],
 "metadata": {
  "kernelspec": {
   "display_name": "Python 3",
   "language": "python",
   "name": "python3"
  },
  "language_info": {
   "codemirror_mode": {
    "name": "ipython",
    "version": 3
   },
   "file_extension": ".py",
   "mimetype": "text/x-python",
   "name": "python",
   "nbconvert_exporter": "python",
   "pygments_lexer": "ipython3",
   "version": "3.8.3"
  }
 },
 "nbformat": 4,
 "nbformat_minor": 4
}
