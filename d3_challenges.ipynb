{
 "cells": [
  {
   "cell_type": "markdown",
   "metadata": {},
   "source": [
    "## Lab -Python Strings Operations <br>\n",
    "\n",
    "\n",
    "### Challenge 1 - Combining Strings\n",
    "\n",
    "Combining strings is an important skill to acquire. There are multiple ways of combining strings in Python, as well as combining strings with variables. We will explore this in the first challenge. <br> \n",
    "In the cell below, combine the strings in the list and add spaces between the strings (do not add a space after the last string). Insert a period after the last string.\n"
   ]
  },
  {
   "cell_type": "code",
   "execution_count": 5,
   "metadata": {},
   "outputs": [
    {
     "name": "stdout",
     "output_type": "stream",
     "text": [
      "I am strengthening my programming skills in order to become a great Data Analyst.\n"
     ]
    }
   ],
   "source": [
    "# I am using the join()-method to solve this.\n",
    "str_list = ['I', 'am', 'strengthening', 'my', 'programming', 'skills', 'in', 'order', 'to', 'become', 'a', 'great', 'Data','Analyst']\n",
    "list_comb = ' '.join(str_list) + \".\"\n",
    "print(list_comb)"
   ]
  },
  {
   "cell_type": "markdown",
   "metadata": {},
   "source": [
    "In the cell below, use the list of strings to create a grocery list. Start the list with the string Grocery list: and include a comma and a space between each item except for the last one. Include a period at the end. Only include foods in the list that start with the letter 'b' and ensure all foods are lower case."
   ]
  },
  {
   "cell_type": "code",
   "execution_count": 18,
   "metadata": {},
   "outputs": [
    {
     "name": "stdout",
     "output_type": "stream",
     "text": [
      "Grocery list: bananas, bread, brownie mix, broccoli.\n"
     ]
    }
   ],
   "source": [
    "food_list = ['Bananas', 'Chocolate', 'bread', 'diapers', 'Ice Cream', 'Brownie Mix', 'broccoli']\n",
    "start_letter = \"b\"\n",
    "\n",
    "res = [idx for idx in food_list if idx[0].lower() == start_letter.lower()]\n",
    "res_final = ', '.join(res).lower() + \".\"\n",
    "\n",
    "grocery_list = \"Grocery list: \" + res_final\n",
    "print(grocery_list)"
   ]
  },
  {
   "cell_type": "markdown",
   "metadata": {},
   "source": [
    "In the cell below, compute the area of a circle using its radius and insert the radius and the area between string1 and string2. Make sure to include spaces between the variable and the strings.\n",
    "\n",
    "Note: You can use the techniques we have learned so far or use f-strings. F-strings allow us to embed code inside strings. You can read more about f-strings here."
   ]
  },
  {
   "cell_type": "code",
   "execution_count": 47,
   "metadata": {},
   "outputs": [
    {
     "name": "stdout",
     "output_type": "stream",
     "text": [
      "The area of the circle with radius: 4.5 is: 63.61725123519331\n",
      "The area of the circle with radius: 4.5 is: 63.61725123519331.\n"
     ]
    }
   ],
   "source": [
    "import math\n",
    "\n",
    "string1 = \"The area of the circle with radius:\"\n",
    "string2  = \"is:\"\n",
    "radius = 4.5\n",
    "pi = math.pi\n",
    "\n",
    "area = pi * radius * radius\n",
    "\n",
    "print(string1 + \" \" + str(radius) + \" \" + string2 + \" \" + str(area))\n",
    "print(\"%s %s %s %s.\" % (string1, radius, string2, area))"
   ]
  },
  {
   "cell_type": "markdown",
   "metadata": {},
   "source": [
    "\n",
    "### Challenge 2 - Splitting Strings\n",
    "\n",
    "We have first looked at combining strings into one long string. There are times where we need to do the opposite and split the string into smaller components for further analysis.\n",
    "\n",
    "In the cell below, split the string into a list of strings using the space delimiter. Count the frequency of each word in the string in a dictionary. Strip the periods, line breaks and commas from the text. Make sure to remove empty strings from your dictionary.\n"
   ]
  },
  {
   "cell_type": "code",
   "execution_count": 105,
   "metadata": {},
   "outputs": [
    {
     "name": "stdout",
     "output_type": "stream",
     "text": [
      "['Some', 'say', 'the', 'world', 'will', 'end', 'in', 'fire', '', 'Some', 'say', 'in', 'ice', '', 'From', 'what', 'I’ve', 'tasted', 'of', 'desire', 'I', 'hold', 'with', 'those', 'who', 'favor', 'fire', '', 'But', 'if', 'it', 'had', 'to', 'perish', 'twice', '', 'I', 'think', 'I', 'know', 'enough', 'of', 'hate', 'To', 'say', 'that', 'for', 'destruction', 'ice', 'Is', 'also', 'great', 'And', 'would', 'suffice', '']\n"
     ]
    }
   ],
   "source": [
    "poem = \"\"\"Some say the world will end in fire,\n",
    "Some say in ice.\n",
    "From what I’ve tasted of desire\n",
    "I hold with those who favor fire.\n",
    "But if it had to perish twice,\n",
    "I think I know enough of hate\n",
    "To say that for destruction ice\n",
    "Is also great\n",
    "And would suffice.\"\"\"\n",
    "\n",
    "# strip periods, line breaks and commas.\n",
    "\n",
    "fresh_poem = poem.replace(\".\", \" \").replace(\",\", \" \").replace(\"\\n\", \" \")\n",
    "#print(fresh_poem)\n",
    "\n",
    "# split.\n",
    "delimited = fresh_poem.split(' ')\n",
    "print(delimited)"
   ]
  },
  {
   "cell_type": "code",
   "execution_count": 99,
   "metadata": {},
   "outputs": [
    {
     "data": {
      "text/plain": [
       "Counter({'Some': 2,\n",
       "         'say': 3,\n",
       "         'the': 1,\n",
       "         'world': 1,\n",
       "         'will': 1,\n",
       "         'end': 1,\n",
       "         'in': 2,\n",
       "         'fire': 2,\n",
       "         '': 5,\n",
       "         'ice': 2,\n",
       "         'From': 1,\n",
       "         'what': 1,\n",
       "         'I’ve': 1,\n",
       "         'tasted': 1,\n",
       "         'of': 2,\n",
       "         'desire': 1,\n",
       "         'I': 3,\n",
       "         'hold': 1,\n",
       "         'with': 1,\n",
       "         'those': 1,\n",
       "         'who': 1,\n",
       "         'favor': 1,\n",
       "         'But': 1,\n",
       "         'if': 1,\n",
       "         'it': 1,\n",
       "         'had': 1,\n",
       "         'to': 1,\n",
       "         'perish': 1,\n",
       "         'twice': 1,\n",
       "         'think': 1,\n",
       "         'know': 1,\n",
       "         'enough': 1,\n",
       "         'hate': 1,\n",
       "         'To': 1,\n",
       "         'that': 1,\n",
       "         'for': 1,\n",
       "         'destruction': 1,\n",
       "         'Is': 1,\n",
       "         'also': 1,\n",
       "         'great': 1,\n",
       "         'And': 1,\n",
       "         'would': 1,\n",
       "         'suffice': 1})"
      ]
     },
     "execution_count": 99,
     "metadata": {},
     "output_type": "execute_result"
    }
   ],
   "source": [
    "# Count:\n",
    "\n",
    "from collections import Counter\n",
    "occurence = Counter(delimited)\n",
    "# print(occurence)\n",
    "occurence"
   ]
  },
  {
   "cell_type": "markdown",
   "metadata": {},
   "source": [
    "In the cell below, find all the words that appear in the text and do not appear in the blacklist. You must parse the string but can choose any data structure you wish for the words that do not appear in the blacklist. Remove all non letter characters and convert all words to lower case."
   ]
  },
  {
   "cell_type": "code",
   "execution_count": 123,
   "metadata": {},
   "outputs": [
    {
     "name": "stdout",
     "output_type": "stream",
     "text": [
      "['' '&' 'angry' 'apple' 'beheld' 'beneath' 'bore' 'both' 'bright' 'day'\n",
      " 'deceitful' 'did' 'end' 'fears' 'foe' 'friend' 'garden' 'glad' 'grew'\n",
      " 'grow' 'had' 'he' 'i' 'into' 'knew' 'mine' 'morning' 'my' 'night' 'not'\n",
      " 'outstretched' 'pole' 'see' 'shine' 'smiles' 'soft' 'stole' 'sunned'\n",
      " 'tears' 'that' 'till' 'told' 'tree' 'veild' 'was' 'waterd' 'when' 'wiles'\n",
      " 'with' 'wrath']\n"
     ]
    }
   ],
   "source": [
    "blacklist = ['and', 'as', 'an', 'a', 'the', 'in', 'it']\n",
    "\n",
    "poem = \"\"\"I was angry with my friend; \n",
    "I told my wrath, my wrath did end.\n",
    "I was angry with my foe: \n",
    "I told it not, my wrath did grow. \n",
    "\n",
    "And I waterd it in fears,\n",
    "Night & morning with my tears: \n",
    "And I sunned it with smiles,\n",
    "And with soft deceitful wiles. \n",
    "\n",
    "And it grew both day and night. \n",
    "Till it bore an apple bright. \n",
    "And my foe beheld it shine,\n",
    "And he knew that it was mine. \n",
    "\n",
    "And into my garden stole, \n",
    "When the night had veild the pole; \n",
    "In the morning glad I see; \n",
    "My foe outstretched beneath the tree.\"\"\"\n",
    "\n",
    "\n",
    "# Deleting elements we don't need.\n",
    "fresh_poem = poem.replace(\".\", \" \").replace(\",\", \" \").replace(\"\\n\", \" \").replace(\";\", \" \").replace(\":\", \" \").lower()\n",
    "\n",
    "# Convert poem string into single elements list.\n",
    "def Convert(string):\n",
    "    li = list(string.split(\" \"))\n",
    "    return li\n",
    "\n",
    "poem_list = (Convert(fresh_poem))\n",
    "\n",
    "# find all words in text but not blacklist.\n",
    "main_list = np.setdiff1d(poem_list,blacklist)\n",
    "print(main_list)"
   ]
  }
 ],
 "metadata": {
  "kernelspec": {
   "display_name": "Python 3",
   "language": "python",
   "name": "python3"
  },
  "language_info": {
   "codemirror_mode": {
    "name": "ipython",
    "version": 3
   },
   "file_extension": ".py",
   "mimetype": "text/x-python",
   "name": "python",
   "nbconvert_exporter": "python",
   "pygments_lexer": "ipython3",
   "version": "3.8.5"
  }
 },
 "nbformat": 4,
 "nbformat_minor": 4
}
